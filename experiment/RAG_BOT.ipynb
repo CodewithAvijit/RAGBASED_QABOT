{
 "cells": [
  {
   "cell_type": "code",
   "execution_count": 16,
   "id": "3544be82",
   "metadata": {},
   "outputs": [],
   "source": [
    "import langchain\n",
    "from langchain.chains.llm import LLMChain\n",
    "from langchain.chains.combine_documents.stuff import StuffDocumentsChain\n",
    "from langchain_google_genai import ChatGoogleGenerativeAI,GoogleGenerativeAIEmbeddings\n",
    "from langchain.text_splitter import RecursiveCharacterTextSplitter\n",
    "from langchain.document_loaders import PyPDFLoader,TextLoader\n",
    "from langchain.prompts import PromptTemplate\n",
    "from langchain.chains import create_retrieval_chain,ConversationalRetrievalChain\n",
    "from langchain.memory import ConversationBufferMemory\n",
    "from langchain.chains.combine_documents import create_stuff_documents_chain\n",
    "from langchain.vectorstores import Chroma\n",
    "import os\n",
    "from dotenv import load_dotenv"
   ]
  },
  {
   "cell_type": "code",
   "execution_count": 17,
   "id": "c4f08f1d",
   "metadata": {},
   "outputs": [],
   "source": [
    "pdf_doc=PyPDFLoader(r\"C:\\Users\\Avijit\\Desktop\\RAG_BASEDBOT\\pdftext\\AVIJIT.pdf\")\n",
    "text_doc=TextLoader(r\"C:\\Users\\Avijit\\Desktop\\RAG_BASEDBOT\\pdftext\\text.txt\")\n"
   ]
  },
  {
   "cell_type": "code",
   "execution_count": 18,
   "id": "3637c495",
   "metadata": {},
   "outputs": [],
   "source": [
    "def add_knowledge(filepath):\n",
    "    text_splitter=RecursiveCharacterTextSplitter(chunk_size=100,chunk_overlap=10)\n",
    "    if(filepath.lower().endswith('.pdf')):\n",
    "        pdf=PyPDFLoader(filepath)\n",
    "        pdf_load=pdf.load()\n",
    "        file=text_splitter.split_documents(pdf_load)\n",
    "        print(\"PDF IS ADDED\")\n",
    "        return file\n",
    "\n",
    "    elif(filepath.lower().endswith('.txt')):\n",
    "        txt=TextLoader(filepath)\n",
    "        txt_load=txt.load()\n",
    "        file=text_splitter.split_documents(txt_load)\n",
    "        print(\"TEXT IS ADDED\")\n",
    "        return file\n"
   ]
  },
  {
   "cell_type": "code",
   "execution_count": 19,
   "id": "3b0d0afe",
   "metadata": {},
   "outputs": [
    {
     "name": "stdout",
     "output_type": "stream",
     "text": [
      "PDF IS ADDED\n"
     ]
    }
   ],
   "source": [
    "pdf=add_knowledge(r\"C:\\Users\\Avijit\\Desktop\\RAG_BASEDBOT\\pdftext\\AVIJIT.pdf\")"
   ]
  },
  {
   "cell_type": "code",
   "execution_count": 26,
   "id": "4c043751",
   "metadata": {},
   "outputs": [],
   "source": [
    "load_dotenv()\n",
    "key=os.getenv(\"GEMINI_KEY\")"
   ]
  },
  {
   "cell_type": "code",
   "execution_count": 81,
   "id": "40c6c9f0",
   "metadata": {},
   "outputs": [],
   "source": [
    "load_dotenv()\n",
    "client=ChatGoogleGenerativeAI(\n",
    "    model=\"gemma-3-27b-it\",\n",
    "    google_api_key=key,\n",
    "    temperature=0.5\n",
    ")"
   ]
  },
  {
   "cell_type": "code",
   "execution_count": 82,
   "id": "8879e610",
   "metadata": {},
   "outputs": [],
   "source": [
    "embeddings=GoogleGenerativeAIEmbeddings(\n",
    "    model='models/embedding-001',\n",
    "    google_api_key=os.getenv(\"GEMINI_KEY\")\n",
    ")"
   ]
  },
  {
   "cell_type": "code",
   "execution_count": 76,
   "id": "38574c25",
   "metadata": {},
   "outputs": [],
   "source": [
    "database3=Chroma.from_documents(\n",
    "    pdf,\n",
    "    embedding=embeddings,\n",
    "    persist_directory=r\"C:\\Users\\Avijit\\Desktop\\RAG_BASEDBOT\\database3\",\n",
    ")\n",
    "database3.persist()"
   ]
  },
  {
   "cell_type": "code",
   "execution_count": 83,
   "id": "60df4125",
   "metadata": {},
   "outputs": [
    {
     "name": "stdout",
     "output_type": "stream",
     "text": [
      "TEXT IS ADDED\n",
      "database3 is update with [Document(metadata={'source': 'C:\\\\Users\\\\Avijit\\\\Desktop\\\\RAG_BASEDBOT\\\\pdftext\\\\text.txt'}, page_content='The meeting was held to resolve this longstanding issue through dialogue, in which the chief'), Document(metadata={'source': 'C:\\\\Users\\\\Avijit\\\\Desktop\\\\RAG_BASEDBOT\\\\pdftext\\\\text.txt'}, page_content='the chief secretaries of Chhattisgarh and Odisha, along with the secretaries of their respective'), Document(metadata={'source': 'C:\\\\Users\\\\Avijit\\\\Desktop\\\\RAG_BASEDBOT\\\\pdftext\\\\text.txt'}, page_content='water resource departments, took part.'), Document(metadata={'source': 'C:\\\\Users\\\\Avijit\\\\Desktop\\\\RAG_BASEDBOT\\\\pdftext\\\\text.txt'}, page_content='Both states acknowledged that the dispute is old and complex but emphasised that it is necessary to'), Document(metadata={'source': 'C:\\\\Users\\\\Avijit\\\\Desktop\\\\RAG_BASEDBOT\\\\pdftext\\\\text.txt'}, page_content='to work out a solution amicably for the benefit of the people, the officials said.'), Document(metadata={'source': 'C:\\\\Users\\\\Avijit\\\\Desktop\\\\RAG_BASEDBOT\\\\pdftext\\\\text.txt'}, page_content='It was decided that starting September 2025, technical committees comprising engineers and experts'), Document(metadata={'source': 'C:\\\\Users\\\\Avijit\\\\Desktop\\\\RAG_BASEDBOT\\\\pdftext\\\\text.txt'}, page_content='experts from both states will meet every week.'), Document(metadata={'source': 'C:\\\\Users\\\\Avijit\\\\Desktop\\\\RAG_BASEDBOT\\\\pdftext\\\\text.txt'}, page_content='These committees will identify the key issues, seek solutions, and also explore ways to establish a'), Document(metadata={'source': 'C:\\\\Users\\\\Avijit\\\\Desktop\\\\RAG_BASEDBOT\\\\pdftext\\\\text.txt'}, page_content='a framework for better coordination between the two states.')]\n"
     ]
    }
   ],
   "source": [
    "def add_knowledge_to_database1(database1,file):\n",
    "    existing_docs=database1.get(include=['documents'])['documents']\n",
    "    file=add_knowledge(file)\n",
    "    new_docs=[doc for doc in file if doc.page_content not  in existing_docs ]\n",
    "    if new_docs:\n",
    "        database1.add_documents(new_docs)\n",
    "        database1.persist()\n",
    "        print(f\"database3 is update with {file}\")\n",
    "    else:\n",
    "        print(f\"database3 is not updated\")\n",
    "\n",
    "add_knowledge_to_database1(database3,r\"C:\\Users\\Avijit\\Desktop\\RAG_BASEDBOT\\pdftext\\text.txt\")"
   ]
  },
  {
   "cell_type": "code",
   "execution_count": 32,
   "id": "8512ee7e",
   "metadata": {},
   "outputs": [],
   "source": [
    "def reset_database(database1):\n",
    "    \"\"\"\n",
    "    Clears all documents from the database and persists the empty state.\n",
    "    \"\"\"\n",
    "    # Retrieve all existing documents\n",
    "    existing_docs = database1.get(include=['documents'])['documents']\n",
    "    \n",
    "    if existing_docs:\n",
    "        # Assuming your database object has a method to delete documents\n",
    "        database1.delete_documents([doc.id for doc in existing_docs])\n",
    "        database1.persist()\n",
    "        print(\"Database has been reset.\")\n",
    "    else:\n",
    "        print(\"Database is already empty.\")\n"
   ]
  },
  {
   "cell_type": "code",
   "execution_count": 84,
   "id": "0419a1cd",
   "metadata": {},
   "outputs": [],
   "source": [
    "prompt = PromptTemplate.from_template(\n",
    "\"\"\"\n",
    "You are a RAG-based assistant. The following context is part of your knowledge base:\n",
    "<context>{context}</context>\n",
    "\n",
    "Answer the question below using the context first. \n",
    "If the answer is not in the context, you may use your general knowledge. \n",
    "Provide only the answer—no extra explanations.\n",
    "\n",
    "Question: {input}\n",
    "\"\"\"\n",
    ")"
   ]
  },
  {
   "cell_type": "code",
   "execution_count": 85,
   "id": "9cf33f6b",
   "metadata": {},
   "outputs": [],
   "source": [
    "retreiver=database3.as_retriever()\n",
    "chain=create_stuff_documents_chain(llm=client,prompt=prompt)"
   ]
  },
  {
   "cell_type": "code",
   "execution_count": 86,
   "id": "c6acee97",
   "metadata": {},
   "outputs": [],
   "source": [
    "\n",
    "retrieval_chain = create_retrieval_chain(\n",
    "    retreiver,chain\n",
    ")\n"
   ]
  },
  {
   "cell_type": "code",
   "execution_count": 87,
   "id": "a2a9c721",
   "metadata": {},
   "outputs": [
    {
     "data": {
      "text/plain": [
       "'Avijit Bhadra is a gym enthusiast with interests in software development, full-stack web development, and AI/ML. He studies CSE at the College of Technology, affiliated with MAKAUT.'"
      ]
     },
     "execution_count": 87,
     "metadata": {},
     "output_type": "execute_result"
    }
   ],
   "source": [
    "retrieval_chain.invoke({\"input\":\"who is avijit and what is his college name\"})['answer']"
   ]
  }
 ],
 "metadata": {
  "kernelspec": {
   "display_name": "Python 3",
   "language": "python",
   "name": "python3"
  },
  "language_info": {
   "codemirror_mode": {
    "name": "ipython",
    "version": 3
   },
   "file_extension": ".py",
   "mimetype": "text/x-python",
   "name": "python",
   "nbconvert_exporter": "python",
   "pygments_lexer": "ipython3",
   "version": "3.10.18"
  }
 },
 "nbformat": 4,
 "nbformat_minor": 5
}
